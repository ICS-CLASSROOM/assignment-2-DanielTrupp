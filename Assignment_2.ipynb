{
 "cells": [
  {
   "cell_type": "code",
   "execution_count": 1,
   "id": "1834d26b",
   "metadata": {},
   "outputs": [],
   "source": [
    "import re\n"
   ]
  },
  {
   "cell_type": "markdown",
   "id": "7a59c1e7",
   "metadata": {},
   "source": [
    "# Assignment 2: Analyzing large datasets with Spark.\n",
    "\n",
    "\n",
    "For this assignment, you will need to make sure you're running from a PySpark docker environment I introduced in class. You can start the docker pySpark docker environment using the following command:\n",
    "\n",
    "```\n",
    "docker run --rm -p 4040:4040 -p 8888:8888 -v \"%cd%\":/home/jovyan/work jupyter/all-spark-notebook\n",
    "```\n",
    "\n",
    "Make sure you run the command from the directory containing this jupyter notebook and your data folder.\n",
    "\n",
    "\n",
    "</b>\n",
    "# WARNING: For some reason, ipynbb document didn't always sync properly when I was pushing to github. As such, please push often and make sure your incremental changes appear on GitHub.\n",
    "</b>"
   ]
  },
  {
   "cell_type": "markdown",
   "id": "bcc7b15d",
   "metadata": {},
   "source": [
    "### Part 1\n",
    "\n",
    "The first part will use Spark to analyze the following books, which I have downloaded for you to use from Project Gutenberg. The files are saved to the data folder.\n",
    "\n",
    "| File name | Book Title|\n",
    "|:---------:|:----------|\n",
    "|43.txt | The Strange Case of Dr. Jekyll and Mr. Hyde by Robert Louis Stevenson|\n",
    "|84.txt | Frankenstein; Or, The Modern Prometheus by Mary Wollstonecraft Shelley |\n",
    "|398.txt  | The First Book of Adam and Eve by Rutherford Hayes Platt|\n",
    "|3296.txt | The Confessions of St. Augustine by Bishop of Hippo Saint Augustine|\n",
    "\n",
    "The objective is to explore whether we can detect similarity between books within the same topic using word-based similarity. \n",
    "\n",
    "The task of identifying similar texts in Natural Language Processing is crucial. A naive method for determining whether two documents are similar is to treat them as collections of words (bag of words) and use the number of words they share as a proxy for their similarity. It makes sense that two books with religion as the topic (e.g.  `398.txt` and `3296.txt`) would have more words in common than a book that discusses religion and a book that discusses science fiction (e.g. books `84.txt` and `398.txt`). \n",
    "\n",
    "As mentioned above, we will be using Spark to analyze the data. Although Spark is not needed for such a small example, the platform would be ideal for analyzing very large collections of documents, like those often analyzed by large corporations\n",
    "\n",
    "This part of the assignment will rely exclusively on RDDs."
   ]
  },
  {
   "cell_type": "markdown",
   "id": "a9653790",
   "metadata": {},
   "source": [
    "### Q1. \n",
    "Start by importing Spark and making sure your environment is set up properly for the assignment.\n",
    "\n",
    "Import the spark context necessary to load a document as an RDD; ignore any error messages"
   ]
  },
  {
   "cell_type": "code",
   "execution_count": 2,
   "id": "7e70d1b6",
   "metadata": {},
   "outputs": [
    {
     "name": "stderr",
     "output_type": "stream",
     "text": [
      "WARNING: An illegal reflective access operation has occurred\n",
      "WARNING: Illegal reflective access by org.apache.spark.unsafe.Platform (file:/usr/local/spark-3.2.0-bin-hadoop3.2/jars/spark-unsafe_2.12-3.2.0.jar) to constructor java.nio.DirectByteBuffer(long,int)\n",
      "WARNING: Please consider reporting this to the maintainers of org.apache.spark.unsafe.Platform\n",
      "WARNING: Use --illegal-access=warn to enable warnings of further illegal reflective access operations\n",
      "WARNING: All illegal access operations will be denied in a future release\n",
      "Using Spark's default log4j profile: org/apache/spark/log4j-defaults.properties\n",
      "Setting default log level to \"WARN\".\n",
      "To adjust logging level use sc.setLogLevel(newLevel). For SparkR, use setLogLevel(newLevel).\n",
      "21/11/08 04:23:08 WARN NativeCodeLoader: Unable to load native-hadoop library for your platform... using builtin-java classes where applicable\n"
     ]
    }
   ],
   "source": [
    "### Write your code here\n",
    "from pyspark import SparkContext\n",
    "sc = SparkContext()\n"
   ]
  },
  {
   "cell_type": "code",
   "execution_count": 3,
   "id": "b628fa1b",
   "metadata": {},
   "outputs": [
    {
     "name": "stdout",
     "output_type": "stream",
     "text": [
      "Spark version is 3.2.0\n",
      "Phthon version is 3.9\n",
      "The name of the master is local[*]\n"
     ]
    }
   ],
   "source": [
    "print(f\"Spark version is {sc.version}\")\n",
    "\n",
    "print(f\"Phthon version is {sc.pythonVer}\")\n",
    "\n",
    "print(f\"The name of the master is {sc.master}\")"
   ]
  },
  {
   "cell_type": "markdown",
   "id": "b3a4f838",
   "metadata": {},
   "source": [
    "### Q2 \n",
    "\n",
    "Read in the file `43.txt` as a spark RDD and save it to a variable called `book_43`\n",
    " * make sure `book_43` is of type MapPartitionsRDD, i.e.,\n",
    "   * str(type(book_43)) == \"<class 'pyspark.rdd.RDD'>\" should return True "
   ]
  },
  {
   "cell_type": "code",
   "execution_count": 4,
   "id": "1e8a47b0",
   "metadata": {},
   "outputs": [
    {
     "data": {
      "text/plain": [
       "True"
      ]
     },
     "execution_count": 4,
     "metadata": {},
     "output_type": "execute_result"
    }
   ],
   "source": [
    "### Write your code here\n",
    "book_43 = sc.textFile('data/43.txt', minPartitions=4)\n",
    "str(type(book_43)) == \"<class 'pyspark.rdd.RDD'>\""
   ]
  },
  {
   "cell_type": "markdown",
   "id": "62c859d7",
   "metadata": {},
   "source": [
    "### Q3\n",
    "\n",
    "How many lines does `book_43` contain?\n",
    "* You can only use operations or actions on RDDs to answer the question. \n",
    "  * Code that uses methods such as `some_rdd.X().Y().Z()...` is allowed\n",
    "  * Code that uses functions such as `some_func(...)` is not allowed"
   ]
  },
  {
   "cell_type": "code",
   "execution_count": 5,
   "id": "784ce17c",
   "metadata": {},
   "outputs": [
    {
     "data": {
      "text/plain": [
       "2935"
      ]
     },
     "execution_count": 5,
     "metadata": {},
     "output_type": "execute_result"
    }
   ],
   "source": [
    "### Write your code here\n",
    "book_43.count()"
   ]
  },
  {
   "cell_type": "markdown",
   "id": "0d6e8248",
   "metadata": {},
   "source": [
    "### Q4 \n",
    "\n",
    "Prior to analyzing the words contained in this book, we need to first remove the occurrences of non-alphabetical characters and numbers from the text. You can use the following function, which takes a line as input, removes digits and non-word characters, and splits it into a collection of words. \n",
    "\n",
    "```python\n",
    "def clean_split_line(line):\n",
    "    a = re.sub('\\d+', '', line)\n",
    "    b = re.sub('[\\W]+', ' ', a)\n",
    "    return b.upper().split()\n",
    "```\n",
    "\n",
    "Use the fucntion above on the variable (test_line) to see what it returns.\n",
    "```python\n",
    "test_line = \"This is an example of that contains 234 and a dash-containing number\"\n",
    "```"
   ]
  },
  {
   "cell_type": "code",
   "execution_count": 6,
   "id": "f1a5a89d",
   "metadata": {},
   "outputs": [
    {
     "data": {
      "text/plain": [
       "['THIS',\n",
       " 'IS',\n",
       " 'AN',\n",
       " 'EXAMPLE',\n",
       " 'OF',\n",
       " 'THAT',\n",
       " 'CONTAINS',\n",
       " 'AND',\n",
       " 'A',\n",
       " 'DASH',\n",
       " 'CONTAINING',\n",
       " 'NUMBER']"
      ]
     },
     "execution_count": 6,
     "metadata": {},
     "output_type": "execute_result"
    }
   ],
   "source": [
    "### Write your code here\n",
    "def clean_split_line(line):\n",
    "    a = re.sub('\\d+', '', line)\n",
    "    b = re.sub('[\\W]+', ' ', a)\n",
    "    return b.upper().split()\n",
    "\n",
    "test_line = \"This is an example of that contains 234 and a dash-containing number\"\n",
    "clean_split_line(test_line)"
   ]
  },
  {
   "cell_type": "markdown",
   "id": "6a0bb038",
   "metadata": {},
   "source": [
    "### Q5\n",
    "\n",
    "How many words does `book_43` contain? To answer this question, you may find it useful to apply the function in a spark-fashion. \n",
    "* You can only use operations or actions on RDDs to answer the question. \n",
    "  * Code that uses methods such as `some_rdd.X().Y().Z()...` is allowed\n",
    "  * Code that uses functions such as `some_func(...)` is not allowed\n"
   ]
  },
  {
   "cell_type": "code",
   "execution_count": 7,
   "id": "7ce6f347",
   "metadata": {},
   "outputs": [
    {
     "data": {
      "text/plain": [
       "29116"
      ]
     },
     "execution_count": 7,
     "metadata": {},
     "output_type": "execute_result"
    }
   ],
   "source": [
    "### Write your code here\n",
    "from operator import add\n",
    "\n",
    "words = book_43.map(clean_split_line)\n",
    "words = words.filter(lambda x: len(x) > 0)\n",
    "word_list = sc.parallelize(words.reduce(add))\n",
    "word_list.count()"
   ]
  },
  {
   "cell_type": "markdown",
   "id": "73496086",
   "metadata": {},
   "source": [
    "### Q6\n",
    "\n",
    "How many of the words in book_43 are unique? Given that words can appear in lower, upper or mixed case (ex. The, THE, the), make sure you convert the words into lower case before counting them.\n"
   ]
  },
  {
   "cell_type": "code",
   "execution_count": 8,
   "id": "7fc35e9d",
   "metadata": {},
   "outputs": [
    {
     "name": "stderr",
     "output_type": "stream",
     "text": [
      "                                                                                \r"
     ]
    },
    {
     "data": {
      "text/plain": [
       "4296"
      ]
     },
     "execution_count": 8,
     "metadata": {},
     "output_type": "execute_result"
    }
   ],
   "source": [
    "### Write your code here\n",
    "unique = word_list.map(str.lower)\n",
    "unique = unique.distinct()\n",
    "unique.count()"
   ]
  },
  {
   "cell_type": "markdown",
   "id": "6fb0b3ea",
   "metadata": {},
   "source": [
    "### Q7\n",
    "\n",
    "* Generate an `RDD` that contains the frequency of each word in `book_43`. Call the variable `book_43_counts`. Each item in the `RDD` should be a tuple with the word as the first element of the tuple and the count as the second item of the tuple. The collection should look like the following:\n",
    "\n",
    "[('project', 88), (\"the\", 1807), ... ]\n",
    "\n",
    "* Such a collection may contain a large number of words and it would be imprudent to transfer all the words onto the same machine to display it. Instead, to explore the content of such a collection, display only the first element in your list. \n",
    "\n",
    "* Given the random nature of this operation, the first element element displayed may be different. The first entry for me was:\n",
    "```\n",
    "[('project', 88)]\n",
    "```\n",
    "\n",
    "* You can only use operations or actions to answer the question. \n",
    "* Code that uses methods such as `some_rdd.X().Y().Z()...` is allowed\n",
    "* Code that uses functions such as `some_func(...)` is not allowed\n"
   ]
  },
  {
   "cell_type": "code",
   "execution_count": 9,
   "id": "28a82cb8",
   "metadata": {},
   "outputs": [
    {
     "data": {
      "text/plain": [
       "[('where', 36)]"
      ]
     },
     "execution_count": 9,
     "metadata": {},
     "output_type": "execute_result"
    }
   ],
   "source": [
    "### Write your code here\n",
    "lower = word_list.map(str.lower)\n",
    "book_43_counts = lower.map(lambda x: (x,1))\n",
    "book_43_counts = book_43_counts.reduceByKey(lambda x,y: x+y)\n",
    "book_43_counts.take(1)"
   ]
  },
  {
   "cell_type": "markdown",
   "id": "87fdb373",
   "metadata": {},
   "source": [
    "### Q8\n",
    "\n",
    "Sort `book_43_counts` and print the 20 most frequent words in book_43. \n",
    "  * Hint: function `sortByKey` sorts a collection of tuples on the first element element of the list. You can easily change the order of the items in each element and use `sortByKey` to sort on the second item of each element in `book_43_counts`\n",
    "  * You can only use operations or actions to answer the question. \n",
    "  * Code that uses methods such as `some_rdd.X().Y().Z()...` is allowed\n",
    "  * Code that uses functions such as `some_func(...)` is not allowed"
   ]
  },
  {
   "cell_type": "code",
   "execution_count": 10,
   "id": "606e9d95",
   "metadata": {},
   "outputs": [
    {
     "data": {
      "text/plain": [
       "[('the', 1807),\n",
       " ('of', 1068),\n",
       " ('and', 1043),\n",
       " ('to', 726),\n",
       " ('a', 686),\n",
       " ('i', 646),\n",
       " ('in', 485),\n",
       " ('was', 471),\n",
       " ('that', 392),\n",
       " ('he', 384),\n",
       " ('it', 378),\n",
       " ('you', 312),\n",
       " ('my', 308),\n",
       " ('with', 301),\n",
       " ('his', 285),\n",
       " ('had', 244),\n",
       " ('as', 203),\n",
       " ('for', 202),\n",
       " ('this', 195),\n",
       " ('but', 193)]"
      ]
     },
     "execution_count": 10,
     "metadata": {},
     "output_type": "execute_result"
    }
   ],
   "source": [
    "### Write your code here\n",
    "book_43_counts = book_43_counts.map(lambda x: x[::-1])\n",
    "book_43_counts = book_43_counts.sortByKey(ascending=False)\n",
    "book_43_counts = book_43_counts.map(lambda x: x[::-1])\n",
    "book_43_counts.take(20)"
   ]
  },
  {
   "cell_type": "markdown",
   "id": "3a540e12",
   "metadata": {},
   "source": [
    "### Q9\n",
    "\n",
    "You must have noted that the most frequent words in `book_43_counts` include stop words such as `of`, `the`, `and`, etc.\n",
    "\n",
    "It would be inefficient to compare documents based on whether or not they contain stop words; those are common to all documents. As such, it's common to remove such stop words. The librarary `sklearn.feature_extraction` provides access to a collection of English stop words, which can be loaded using the following snippet:\n",
    "\n",
    "```\n",
    "from sklearn.feature_extraction import stop_words\n",
    "stop_words.ENGLISH_STOP_WORDS\n",
    "```\n",
    "\n",
    "* Explore ENGLISH_STOP_WORDS (it's a frozen set data structure, i.e., a set that you cannot modify) by printing any 10 words from it. \n",
    " * Hint: convert the frozen set to something you can subscript\n"
   ]
  },
  {
   "cell_type": "code",
   "execution_count": 11,
   "id": "e52e19f6",
   "metadata": {},
   "outputs": [
    {
     "data": {
      "text/plain": [
       "['another',\n",
       " 'therein',\n",
       " 'show',\n",
       " 'not',\n",
       " 'within',\n",
       " 'beside',\n",
       " 'back',\n",
       " 'throughout',\n",
       " 'am',\n",
       " 'we']"
      ]
     },
     "execution_count": 11,
     "metadata": {},
     "output_type": "execute_result"
    }
   ],
   "source": [
    "### Write your code here\n",
    "from sklearn.feature_extraction import _stop_words\n",
    "eng_stop_words = sc.parallelize(_stop_words.ENGLISH_STOP_WORDS)\n",
    "eng_stop_words.take(10)"
   ]
  },
  {
   "cell_type": "markdown",
   "id": "916acef2",
   "metadata": {},
   "source": [
    "### Q10\n",
    "\n",
    "Filter out the words in `book_43_counts` by removing those that appear in the ENGLISH_STOP_WORDS.\n",
    "Save the results to a new variable called `book_43_counts_filtered`\n",
    "  * You can only use operarations or actions on RDDs to answer the question. \n",
    "  * Code that uses methods such as `some_rdd.X().Y().Z()...` is allowed\n",
    "  * Code that uses function such as `some_func(...)` is not allowed\n"
   ]
  },
  {
   "cell_type": "code",
   "execution_count": 12,
   "id": "3153d213",
   "metadata": {},
   "outputs": [
    {
     "data": {
      "text/plain": [
       "[('s', 156),\n",
       " ('utterson', 131),\n",
       " ('said', 130),\n",
       " ('mr', 128),\n",
       " ('hyde', 105),\n",
       " ('jekyll', 105),\n",
       " ('gutenberg', 98),\n",
       " ('project', 88),\n",
       " ('man', 85),\n",
       " ('lawyer', 72)]"
      ]
     },
     "execution_count": 12,
     "metadata": {},
     "output_type": "execute_result"
    }
   ],
   "source": [
    "### Write your code here\n",
    "compare = eng_stop_words.collect()\n",
    "book_43_counts_filtered = book_43_counts.filter(lambda x: x[0] not in compare)\n",
    "book_43_counts_filtered.take(10)"
   ]
  },
  {
   "cell_type": "markdown",
   "id": "3765bd2b",
   "metadata": {},
   "source": [
    "### Q11\n",
    "\n",
    "* How many words are left in `book_43_counts_filtered` after removing the stop words"
   ]
  },
  {
   "cell_type": "code",
   "execution_count": 13,
   "id": "b66361f5",
   "metadata": {},
   "outputs": [
    {
     "data": {
      "text/plain": [
       "4034"
      ]
     },
     "execution_count": 13,
     "metadata": {},
     "output_type": "execute_result"
    }
   ],
   "source": [
    "### Write your code here\n",
    "book_43_counts_filtered.count()"
   ]
  },
  {
   "cell_type": "markdown",
   "id": "6e613e50",
   "metadata": {},
   "source": [
    "### Q12 \n",
    "\n",
    "* Create a function called *process_RDD* that combines the relevant steps you proposed above to make it convenient to apply them to the remaining four books. Your function should accept an input text file path and:\n",
    " * Reads in the file as a textRDD\n",
    " * Cleans and splits the line using `clean_split_line`\n",
    " * Filters out the stop words\n",
    " * Returns a word count RDD where each item is a tuple of words and its count.\n",
    " \n"
   ]
  },
  {
   "cell_type": "code",
   "execution_count": 14,
   "id": "0e28b909",
   "metadata": {},
   "outputs": [],
   "source": [
    "### Write your code here\n",
    "from sklearn.feature_extraction import _stop_words\n",
    "\n",
    "def process_RDD(text_file):\n",
    "    #read in text file as rdd\n",
    "    initial_rdd = sc.textFile(text_file, minPartitions=4)\n",
    "    \n",
    "    #clean and split lines\n",
    "    init_words = initial_rdd.map(clean_split_line)\n",
    "    init_words = init_words.filter(lambda x: len(x) > 0)\n",
    "    init_word_list = sc.parallelize(init_words.reduce(add))\n",
    "    \n",
    "    #create tuples\n",
    "    rdd_lower = init_word_list.map(str.lower)\n",
    "    rdd_counts = rdd_lower.map(lambda x: (x,1))\n",
    "    rdd_counts = rdd_counts.reduceByKey(lambda x,y: x+y)\n",
    "    \n",
    "    #filter our stop words\n",
    "    eng_stop_words = sc.parallelize(_stop_words.ENGLISH_STOP_WORDS)\n",
    "    compare = eng_stop_words.collect()\n",
    "    rdd_filtered = rdd_counts.filter(lambda x: x[0] not in compare)\n",
    "    \n",
    "    return rdd_filtered\n",
    "    "
   ]
  },
  {
   "cell_type": "markdown",
   "id": "6fb87746",
   "metadata": {},
   "source": [
    "### Q13 \n",
    "\n",
    "Apply the function `process_RDD` to `book_84`, `book_398` and `book_3296` and save the results to variables `book_84_counts_filtered`, `book_398_counts_filtered` and `book_3296_counts_filtered` respectively. How many distinct words does each book contain after filtering the stop words.\n"
   ]
  },
  {
   "cell_type": "code",
   "execution_count": 15,
   "id": "ad2ac037",
   "metadata": {},
   "outputs": [
    {
     "name": "stdout",
     "output_type": "stream",
     "text": [
      "Count of book 84:\n",
      "7016\n",
      "Count of book 398:\n",
      "2421\n",
      "Count of book 3296:\n",
      "7293\n"
     ]
    }
   ],
   "source": [
    "### Write your code here\n",
    "book_84_counts_filtered = process_RDD('data/84.txt')\n",
    "book_398_counts_filtered = process_RDD('data/398.txt')\n",
    "book_3296_counts_filtered = process_RDD('data/3296.txt')\n",
    "\n",
    "print('Count of book 84:')\n",
    "print(book_84_counts_filtered.count())\n",
    "print('Count of book 398:')\n",
    "print(book_398_counts_filtered.count())\n",
    "print('Count of book 3296:')\n",
    "print(book_3296_counts_filtered.count())"
   ]
  },
  {
   "cell_type": "markdown",
   "id": "1e36d2a6",
   "metadata": {},
   "source": [
    "### Q14 \n",
    "\n",
    "We discussed how to evaluate similarity between two texts using the number of words they share. We hypothesized that books that are similar should have more words in common than books that are dissimilar. If that holds, `book_398` and `book_3296`, which both pertain to religion, will have more words in common than, say, `book_84` and `book_398`. Test this hypothesis by writing code that compares and prints the number of words shared between `book_398` and `book_3296` and then between `book_84` and `book_398`.\n"
   ]
  },
  {
   "cell_type": "code",
   "execution_count": 16,
   "id": "79e36980",
   "metadata": {},
   "outputs": [
    {
     "name": "stdout",
     "output_type": "stream",
     "text": [
      "Words shared between book 84 and book 3296:\n",
      "3608\n",
      "Words shared between book 84 and book 398:\n",
      "1691\n"
     ]
    }
   ],
   "source": [
    "### Write your code here\n",
    "book_84_words = book_84_counts_filtered.map(lambda x: x[0])\n",
    "book_398_words = book_398_counts_filtered.map(lambda x: x[0])\n",
    "book_3296_words = book_3296_counts_filtered.map(lambda x: x[0])\n",
    "\n",
    "print('Words shared between book 84 and book 3296:')\n",
    "print(book_84_words.intersection(book_3296_words).count())\n",
    "print('Words shared between book 84 and book 398:')\n",
    "print(book_84_words.intersection(book_398_words).count())"
   ]
  },
  {
   "cell_type": "markdown",
   "id": "5221adbc",
   "metadata": {},
   "source": [
    "### Q15\n",
    "\n",
    "* Based on the above, do you think counting the number of shared words is a good idea as a distance metric for evaluating topic similarity? Justify your answer?\n",
    "* Hint: What do *book_84* and *book_3296* have in common? "
   ]
  },
  {
   "cell_type": "markdown",
   "id": "244d01e9",
   "metadata": {},
   "source": [
    "No. Computing the number of shared words could be decent distance metric for topic similarity if it was modified slightly. Our hypothesis that similar books have similar words appears to hold up in this case. From here, we could compute the shared words over the total words in both books to get a normalized similarity. In this case, more similar books would have a value closer to 1, and further books would have a value closer to 0. \n",
    "Without additional modification, however, using the number of shared words may fail as a distance metric. For example, a large book covering multiple topics may have a large portion of shared words, but may not be as similar as a shorter book in the field focusing on a specific area. "
   ]
  },
  {
   "cell_type": "markdown",
   "id": "4194a96b",
   "metadata": {},
   "source": [
    "## Part II \n",
    "\n",
    "Another approach to estimating similarity consists of computing the Euclidean distance across a set of words. For example, suppose we have 3 documents A, B and C with the following counts for the words `evolution`, `DNA`, `biology` and `finance`. \n",
    "\n",
    "```python \n",
    "A = [4, 9, 6, 8]\n",
    "B = [3, 7, 7, 10]\n",
    "C = [15, 10, 1, 1]\n",
    "```\n",
    "Although all documents contain exactly the four words, the number of times these words appear in each book may be indicative of thier topic. For example, documents `A` and `B` are more likely to be business related since they contain the word `finance` more frequently (8 and 10 times respectively). Document `C` may be a technical document since it focuses on more technical words (`evolution` and `DNA`) and less on the words `finance`.\n",
    "\n",
    "The Euclidean distance, which can be computed using the `scikit` snippet below, is more indicative of topic-relatedness between the two documents.\n",
    "\n",
    "```python\n",
    "from scipy.spatial.distance import euclidean \n",
    "print(f\"The Euclidean distance between A and B is: {euclidean(A, B)}\")\n",
    "\n",
    "print(f\"The Euclidean distance between A and C is: {euclidean(A, C)}\")\n",
    "\n",
    "print(f\"The Euclidean distance between B and C is: {euclidean(B, C)}\")\n",
    "```\n"
   ]
  },
  {
   "cell_type": "markdown",
   "id": "16bbe0f2",
   "metadata": {},
   "source": [
    "### Q16\n",
    "\n",
    "To calculate the Euclidean distance, we must first identify the set of words by which we will compare the documents. Here, we will explore the words that are common to all 4 documents. We will store the data in a matrix called `counts_matrix`.\n",
    "\n",
    "Start by finding the words that are common to all four documents after stop-word filtering and store the counts for each word in a column of `counts_matrix`. \n",
    "\n",
    "To take the previous example, you can generate an emtpy matrix with 3 lines (documents `A`, `B` and `C`) and 4 columns (words `evolution`, `DNA`, `biology` and `finance`) using the following code.\n",
    "\n",
    "```python\n",
    "import numpy as np\n",
    "counts_matrix = np.zeros([3,4])\n",
    "```\n",
    "\n",
    "After generting the counts, you can fill the counts for a document, say `A`, using the following code:\n",
    "\n",
    "```python\n",
    "counts_matrix[0, :] = [4, 9, 6, 8] \n",
    "```\n",
    "* Other than for building `counts_matrix` you should exclusively use operations or actions on the `RDD` to answer this question. \n",
    "  * Code that uses methods such as `some_rdd.X().Y().Z()...` is allowed\n",
    "  * Code that uses functions such as `some_func(...)` is not allowed\n"
   ]
  },
  {
   "cell_type": "code",
   "execution_count": 17,
   "id": "f5f557ea",
   "metadata": {},
   "outputs": [
    {
     "name": "stderr",
     "output_type": "stream",
     "text": [
      "                                                                                \r"
     ]
    },
    {
     "data": {
      "text/plain": [
       "array([[ 1.,  3.,  2.,  2.,  1., 10.,  1.,  1.,  2.,  1.,  2.,  2.],\n",
       "       [ 1.,  9.,  4.,  2.,  1., 12.,  1.,  1.,  2.,  3., 21.,  4.],\n",
       "       [16., 36.,  3.,  3.,  1., 12.,  1.,  1.,  2., 39., 15.,  1.],\n",
       "       [ 1.,  5., 16., 14.,  1., 10.,  1.,  1.,  2.,  9., 11.,  2.]])"
      ]
     },
     "execution_count": 17,
     "metadata": {},
     "output_type": "execute_result"
    }
   ],
   "source": [
    "### Write your code here\n",
    "import numpy as np\n",
    "#find total intersection\n",
    "book_43_words = book_43_counts_filtered.map(lambda x: x[0])\n",
    "total_intersection = book_43_words.intersection(book_84_words)\n",
    "total_intersection = total_intersection.intersection(book_3296_words)\n",
    "total_intersection = total_intersection.intersection(book_398_words)\n",
    "\n",
    "#create subset of rdds with intersection\n",
    "intersection = total_intersection.collect()\n",
    "book_43_counts_intersection = book_43_counts_filtered.filter(lambda x: x[0] in intersection)\n",
    "book_84_counts_intersection = book_84_counts_filtered.filter(lambda x: x[0] in intersection)\n",
    "book_3296_counts_intersection = book_3296_counts_filtered.filter(lambda x: x[0] in intersection)\n",
    "book_398_counts_intersection = book_398_counts_filtered.filter(lambda x: x[0] in intersection)\n",
    "\n",
    "#order sorted rdds so that they are the same\n",
    "book_43_counts_intersection = book_43_counts_intersection.sortByKey()\n",
    "book_84_counts_intersection = book_84_counts_intersection.sortByKey()\n",
    "book_3296_counts_intersection = book_3296_counts_intersection.sortByKey()\n",
    "book_398_counts_intersection = book_398_counts_intersection.sortByKey()\n",
    "\n",
    "#create the array\n",
    "counts_matrix = np.zeros([4, total_intersection.count()])\n",
    "counts_matrix[0, :] = book_43_counts_intersection.map(lambda x: x[1]).collect()\n",
    "counts_matrix[1, :] = book_84_counts_intersection.map(lambda x: x[1]).collect()\n",
    "counts_matrix[2, :] = book_3296_counts_intersection.map(lambda x: x[1]).collect()\n",
    "counts_matrix[3, :] = book_398_counts_intersection.map(lambda x: x[1]).collect()\n",
    "\n",
    "#display, to check\n",
    "counts_matrix[0:4, 0:12]"
   ]
  },
  {
   "cell_type": "markdown",
   "id": "e2861ce5",
   "metadata": {},
   "source": [
    "### Q17\n",
    "\n",
    "Compute the Euclidean distance between `book_398` and `book_3296`, which both talk about religion and `book_84` and `book_398`. What do you conclude about using the Euclidean distance for evaluating topic relatedness across documents?\n"
   ]
  },
  {
   "cell_type": "code",
   "execution_count": 18,
   "id": "c36f96b9",
   "metadata": {},
   "outputs": [
    {
     "name": "stdout",
     "output_type": "stream",
     "text": [
      "The Euclidean distance between book 398 and book 3296 is: 1156.6628722320086\n",
      "The Euclidean distance between book 84 and book 398 is: 751.6688100486809\n"
     ]
    }
   ],
   "source": [
    "### Write your code here\n",
    "from scipy.spatial.distance import euclidean \n",
    "\n",
    "print(f\"The Euclidean distance between book 398 and book 3296 is: {euclidean(counts_matrix[3, :], counts_matrix[2, :])}\")\n",
    "\n",
    "print(f\"The Euclidean distance between book 84 and book 398 is: {euclidean(counts_matrix[3, :], counts_matrix[1, :])}\")"
   ]
  },
  {
   "cell_type": "markdown",
   "id": "b92b0651",
   "metadata": {},
   "source": [
    "Euclidian distance also appears to be a poor metric for evaluating topic relatedness. Our two books about religon have a greater distance between them than one book about religon to an unrelated book. This could be due to a book being longer than the other, hence containing significantly more words, and thereby more occurances of shared words."
   ]
  },
  {
   "cell_type": "markdown",
   "id": "d5f21fb3",
   "metadata": {},
   "source": [
    "### Q18\n",
    "\n",
    "Bonus question (5 points): Can you think of a few things we could do to improve similarity between documents that pertain to the same topic. Justify your answer without giving code"
   ]
  },
  {
   "cell_type": "markdown",
   "id": "eadd727c",
   "metadata": {},
   "source": [
    "We could normalize the word counts. It may be that similar documents have a similar proportion of words pertaining to the subject matter, and normalizing the word counts would prevent large books from being too different from smaller books. \n",
    "Alternatively, we could use the total word space of all documents we are comparing with 0s representing words not present in the book. That may increase distance between dissimilar books."
   ]
  },
  {
   "cell_type": "markdown",
   "id": "9017a54f",
   "metadata": {},
   "source": [
    "## Part III\n",
    "\n",
    "In this part we will build some basic analytics for a dataset consisting of flight arrival and departure details for all commercial flights within the USA in one month. While this dataset can be managed using Pandas (<1M records), scaling to a yearly or longer timeframe will greatly benefit from using a distributed computing framework such as `Spark`.\n",
    "\n",
    "Here, you should use exclusively `SparkDatFrames. \n",
    "\n",
    "We want to analyze this dataset to better schedule trips.  For example:\n",
    " * Avoid airlines carriers that are most often associated with delays.\n",
    " * Avoid departure days where delays are most frequent.\n",
    " * Avoid airports which are associated with delays or long taxxying time.\n",
    "* etc.\n",
    " \n",
    "\n",
    "The information about the fields contained in the data file can be found [here](https://dataverse.harvard.edu/dataset.xhtml;jsessionid=0414e25969eccd0e88ae4d64fa0b?persistentId=doi%3A10.7910%2FDVN%2FHG7NV7&version=&q=&fileTypeGroupFacet=&fileTag=%221.+Documentation%22&fileSortField=date&fileSortOrder=desc)\n"
   ]
  },
  {
   "cell_type": "markdown",
   "id": "ba5272ae",
   "metadata": {},
   "source": [
    "### Q19\n",
    "\n",
    "Load the file `flight_info.csv` into a spark `DataFrame` called `fight_info`.\n",
    "\n",
    "  * Note that you will need to create a sparkSession prior to loading the data\n",
    "  \n",
    "* How many entries does the file contain?\n",
    "\n"
   ]
  },
  {
   "cell_type": "code",
   "execution_count": 19,
   "id": "8ce24b37",
   "metadata": {},
   "outputs": [],
   "source": [
    "#spark session creation \n",
    "from pyspark.sql import SparkSession\n",
    "\n",
    "spark = SparkSession \\\n",
    "    .builder \\\n",
    "    .appName(\"Python Spark SQL flight info\") \\\n",
    "    .config(\"spark.some.config.option\", \"some-value\") \\\n",
    "    .getOrCreate()"
   ]
  },
  {
   "cell_type": "code",
   "execution_count": 20,
   "id": "debb13d2",
   "metadata": {},
   "outputs": [
    {
     "data": {
      "text/plain": [
       "450017"
      ]
     },
     "execution_count": 20,
     "metadata": {},
     "output_type": "execute_result"
    }
   ],
   "source": [
    "### Write your code here\n",
    "fight_info = spark.read.option(\"header\", True).csv('data/flight_info.csv')\n",
    "fight_info.count()"
   ]
  },
  {
   "cell_type": "markdown",
   "id": "f9eeca0a",
   "metadata": {},
   "source": [
    "### Q20\n",
    "\n",
    "Use `pySpark-SQL` or `pandas-like syntax to compute the airlines represented in this dataset\n",
    "The airline information is stored in a field called UniqueCarrier\n",
    "* UniqueCarrier: Represents the unique carrier code (ex.AA = American Airlines) \n"
   ]
  },
  {
   "cell_type": "code",
   "execution_count": 21,
   "id": "c7b7540a",
   "metadata": {},
   "outputs": [
    {
     "name": "stdout",
     "output_type": "stream",
     "text": [
      "+-------------+\n",
      "|UniqueCarrier|\n",
      "+-------------+\n",
      "|           AA|\n",
      "|           EV|\n",
      "|           B6|\n",
      "|           DL|\n",
      "|           UA|\n",
      "|           NK|\n",
      "|           OO|\n",
      "|           F9|\n",
      "|           HA|\n",
      "|           WN|\n",
      "|           AS|\n",
      "|           VX|\n",
      "+-------------+\n",
      "\n"
     ]
    }
   ],
   "source": [
    "### Write your code here\n",
    "fight_info.createOrReplaceTempView(\"flights\")\n",
    "\n",
    "unique_carriers = spark.sql(\"SELECT DISTINCT UniqueCarrier FROM flights\")\n",
    "unique_carriers.show()"
   ]
  },
  {
   "cell_type": "markdown",
   "id": "accf8064",
   "metadata": {},
   "source": [
    "### Q21\n",
    "\n",
    "The data file contains various other fields, two of which are useful for answering the next question.\n",
    "\n",
    "* CRSDepTime: Represents the scheduled departure time\n",
    "* DepTime: Represents the actual departure time\n",
    "\n",
    "Compute the number of flights delayed per each carried code represented in this dataset. Sort the data by decreasing order of delays.\n",
    "  * A delay is observed when `DepTime` > `CRSDepTime`\n"
   ]
  },
  {
   "cell_type": "code",
   "execution_count": 22,
   "id": "1a9f016d",
   "metadata": {},
   "outputs": [
    {
     "name": "stdout",
     "output_type": "stream",
     "text": [
      "+-------------+-----+\n",
      "|UniqueCarrier|count|\n",
      "+-------------+-----+\n",
      "|           WN|47472|\n",
      "|           DL|24334|\n",
      "|           AA|23461|\n",
      "|           UA|17701|\n",
      "|           OO|16751|\n",
      "|           EV|11596|\n",
      "|           B6| 9396|\n",
      "|           AS| 4488|\n",
      "|           NK| 4151|\n",
      "|           F9| 2988|\n",
      "|           VX| 2648|\n",
      "|           HA| 1939|\n",
      "+-------------+-----+\n",
      "\n"
     ]
    }
   ],
   "source": [
    "### Write your code here\n",
    "delays = spark.sql(\"SELECT UniqueCarrier, (DepTime - CRSDepTime) AS Delay FROM flights ORDER BY Delay DESC\")\n",
    "\n",
    "delays = delays.na.drop()\n",
    "delays = delays.where(delays['Delay'] > 0)\n",
    "delays.groupby('UniqueCarrier').count().orderBy('count', ascending=False).show()"
   ]
  },
  {
   "cell_type": "markdown",
   "id": "50e84d48",
   "metadata": {},
   "source": [
    "### Q22\n",
    "\n",
    " Use the file `airlines.csv` to find the the complete name of the airline. Here, you are required to load the file as a pyspark DataFrame; call it `airlines_info`, and repeat the query above while including the `flights.csv `file in your query ( requires doing a `join`) so that you can also display the full name of the carrier (second column). \n",
    "\n",
    "The result will look (approximately) like:\n",
    "\n",
    "```\n",
    "[Row(UniqueCarrier='WN', first(_c1)='Southwest Airlines', count=SOME_count),\n",
    " Row(UniqueCarrier='DL', first(_c1)='Delta Air Lines', count=SOME_count),\n",
    " Row(UniqueCarrier='AA', first(_c1)='American Airlines', count=SOME_count),\n",
    " ...\n",
    " ]\n",
    "```\n",
    "\n",
    "The carrier code in the `airlines.csv` file is provided in the 4th (1-based) column\n",
    "\n",
    "Note that the file `airlines.csv` does not have column header. Hence, you need to print one line of your dataset to see what names Spark gave to the columns. Use the name provided by Spark in your query."
   ]
  },
  {
   "cell_type": "code",
   "execution_count": 23,
   "id": "56e6cc03",
   "metadata": {},
   "outputs": [
    {
     "name": "stdout",
     "output_type": "stream",
     "text": [
      "+---+--------------+---+----+---+-------+-------------+---+\n",
      "|_c0|           _c1|_c2| _c3|_c4|    _c5|          _c6|_c7|\n",
      "+---+--------------+---+----+---+-------+-------------+---+\n",
      "|  1|Private flight| \\N|   -|N/A|   null|         null|  Y|\n",
      "|  2|   135 Airways| \\N|null|GNL|GENERAL|United States|  N|\n",
      "|  3| 1Time Airline| \\N|  1T|RNX|NEXTIME| South Africa|  Y|\n",
      "+---+--------------+---+----+---+-------+-------------+---+\n",
      "only showing top 3 rows\n",
      "\n"
     ]
    }
   ],
   "source": [
    "### Write your code here\n",
    "airlines_info = spark.read.csv('data/airlines.csv')\n",
    "airlines_info.show(3)\n",
    "\n",
    "airlines_info.createOrReplaceTempView(\"airlines\")\n",
    "delays.createOrReplaceTempView(\"delays\")"
   ]
  },
  {
   "cell_type": "code",
   "execution_count": 24,
   "id": "95261144",
   "metadata": {},
   "outputs": [
    {
     "name": "stdout",
     "output_type": "stream",
     "text": [
      "+-------------+--------------------+-----+\n",
      "|UniqueCarrier|                 _c1|count|\n",
      "+-------------+--------------------+-----+\n",
      "|           WN|  Southwest Airlines|47472|\n",
      "|           DL|     Delta Air Lines|24334|\n",
      "|           AA|   American Airlines|23461|\n",
      "|           UA|     United Airlines|17701|\n",
      "|           OO|             SkyWest|16751|\n",
      "|           EV|Atlantic Southeas...|11596|\n",
      "|           B6|     JetBlue Airways| 9396|\n",
      "|           AS|     Alaska Airlines| 4488|\n",
      "|           NK|     Spirit Airlines| 4151|\n",
      "|           F9|   Frontier Airlines| 2988|\n",
      "|           VX|      Virgin America| 2648|\n",
      "|           HA|   Hawaiian Airlines| 1939|\n",
      "+-------------+--------------------+-----+\n",
      "\n"
     ]
    }
   ],
   "source": [
    "delays_name = spark.sql(\"SELECT UniqueCarrier, _c1 from delays JOIN airlines ON delays.UniqueCarrier = airlines._c3\")\n",
    "delays_name.groupby(['UniqueCarrier', '_c1']).count().orderBy('count', ascending=False).show()"
   ]
  },
  {
   "cell_type": "markdown",
   "id": "5021d160",
   "metadata": {},
   "source": [
    "### Q23\n",
    "\n",
    "Compute the number of delays per company per day. The day is encoded as an integer in the column `DayOfWeek` in `fight_info`. You can display the day as an integer or map it into a string name of the week.\n",
    "Sort the data by airline code (UniqueCarrier) and by increasing values of DayOfWeek\n",
    "\n",
    "\n",
    "You results should look like the following\n",
    "\n"
   ]
  },
  {
   "cell_type": "code",
   "execution_count": 35,
   "id": "37a87dec",
   "metadata": {},
   "outputs": [
    {
     "name": "stdout",
     "output_type": "stream",
     "text": [
      "+-------------+------------------+---------+-----+\n",
      "|UniqueCarrier|               _c1|DayOfWeek|count|\n",
      "+-------------+------------------+---------+-----+\n",
      "|           WN|Southwest Airlines|        1|18303|\n",
      "|           WN|Southwest Airlines|        2|18123|\n",
      "|           WN|Southwest Airlines|        7|16463|\n",
      "|           WN|Southwest Airlines|        3|14409|\n",
      "|           WN|Southwest Airlines|        5|14400|\n",
      "|           WN|Southwest Airlines|        4|14363|\n",
      "|           DL|   Delta Air Lines|        1|12290|\n",
      "|           AA| American Airlines|        1|12165|\n",
      "|           WN|Southwest Airlines|        6|11724|\n",
      "|           AA| American Airlines|        7|11678|\n",
      "|           AA| American Airlines|        2|11543|\n",
      "|           DL|   Delta Air Lines|        2|11515|\n",
      "|           DL|   Delta Air Lines|        7|10615|\n",
      "|           AA| American Airlines|        5| 9944|\n",
      "|           AA| American Airlines|        4| 9894|\n",
      "|           DL|   Delta Air Lines|        5| 9724|\n",
      "|           AA| American Airlines|        3| 9711|\n",
      "|           DL|   Delta Air Lines|        4| 9697|\n",
      "|           DL|   Delta Air Lines|        3| 9250|\n",
      "|           OO|           SkyWest|        1| 8660|\n",
      "+-------------+------------------+---------+-----+\n",
      "only showing top 20 rows\n",
      "\n"
     ]
    }
   ],
   "source": [
    "### Write your code here\n",
    "delays_day = spark.sql(\"SELECT UniqueCarrier, _c1, DayOfWeek from flights JOIN airlines ON flights.UniqueCarrier = airlines._c3\")\n",
    "delays_day.groupby(['UniqueCarrier', '_c1', 'DayOfWeek']).count().orderBy('count', ascending=False).show()"
   ]
  },
  {
   "cell_type": "markdown",
   "id": "cf720fbf",
   "metadata": {},
   "source": [
    "### Q24  \n",
    "\n",
    "Counting the number of delayed flights per airline is misleading, as airlines with more flights are more likley to have delays than companies with substantially fiewer flights. \n",
    "\n",
    "Repeat the same query above but, for each carrier, normalize the counts of delays by the total number of flights for that carrier. \n"
   ]
  },
  {
   "cell_type": "code",
   "execution_count": 66,
   "id": "25497464",
   "metadata": {},
   "outputs": [
    {
     "name": "stdout",
     "output_type": "stream",
     "text": [
      "+-------------+--------------------+-------------------+\n",
      "|UniqueCarrier|                 _c1|       NormalDelays|\n",
      "+-------------+--------------------+-------------------+\n",
      "|           VX|      Virgin America| 0.4579730197163611|\n",
      "|           WN|  Southwest Airlines| 0.4404323421626386|\n",
      "|           UA|     United Airlines| 0.4174468787585784|\n",
      "|           F9|   Frontier Airlines| 0.3850515463917526|\n",
      "|           B6|     JetBlue Airways|0.38192016909194376|\n",
      "|           DL|     Delta Air Lines|0.34855972383366995|\n",
      "|           OO|             SkyWest|0.33404458979779045|\n",
      "|           EV|Atlantic Southeas...| 0.3309644090532865|\n",
      "|           NK|     Spirit Airlines|  0.330230708035004|\n",
      "|           AA|   American Airlines|0.32080347864136083|\n",
      "|           HA|   Hawaiian Airlines|0.30895474824729124|\n",
      "|           AS|     Alaska Airlines|0.30507783291414586|\n",
      "+-------------+--------------------+-------------------+\n",
      "\n"
     ]
    }
   ],
   "source": [
    "### Write your code here\n",
    "all_flights = spark.sql(\"SELECT UniqueCarrier FROM flights\")\n",
    "flight_totals = all_flights.groupby('UniqueCarrier').count().orderBy('count', ascending=False)\n",
    "flight_delays = delays_name.groupby(['UniqueCarrier', '_c1']).count().orderBy('count', ascending=False)\n",
    "\n",
    "flight_totals.createOrReplaceTempView(\"ftots\")\n",
    "flight_delays.createOrReplaceTempView(\"fdels\")\n",
    "\n",
    "normal_delays = spark.sql(\"SELECT fdels.UniqueCarrier, _c1, (fdels.count/ftots.count) AS NormalDelays FROM ftots JOIN fdels on ftots.UniqueCarrier == fdels.UniqueCarrier\")\n",
    "normal_delays.orderBy('NormalDelays', ascending=False).show()"
   ]
  },
  {
   "cell_type": "markdown",
   "id": "3ed67583",
   "metadata": {},
   "source": [
    "### Q25 \n",
    "\n",
    "Time the query above. How long did it take to run. \n",
    "  * Make sure you run the code a few times and compute the average run time.\n",
    "  * The above should be easy to implement if you use the correct Jupyter Notebook `magic` function\n",
    "  "
   ]
  },
  {
   "cell_type": "code",
   "execution_count": 68,
   "id": "c359f921",
   "metadata": {},
   "outputs": [
    {
     "name": "stdout",
     "output_type": "stream",
     "text": [
      "31.2 ms ± 2.46 ms per loop (mean ± std. dev. of 7 runs, 10 loops each)\n"
     ]
    }
   ],
   "source": [
    "%%timeit\n",
    "all_flights = spark.sql(\"SELECT UniqueCarrier FROM flights\")\n",
    "flight_totals = all_flights.groupby('UniqueCarrier').count().orderBy('count', ascending=False)\n",
    "flight_delays = delays_name.groupby(['UniqueCarrier', '_c1']).count().orderBy('count', ascending=False)\n",
    "\n",
    "flight_totals.createOrReplaceTempView(\"ftots\")\n",
    "flight_delays.createOrReplaceTempView(\"fdels\")\n",
    "\n",
    "normal_delays = spark.sql(\"SELECT fdels.UniqueCarrier, _c1, (fdels.count/ftots.count) AS NormalDelays FROM ftots JOIN fdels on ftots.UniqueCarrier == fdels.UniqueCarrier\")"
   ]
  },
  {
   "cell_type": "markdown",
   "id": "96e15bae",
   "metadata": {},
   "source": [
    "### Q26 \n",
    "\n",
    "Use one of the techniques covered in class to accelerate this query. Time your query to see by how much the run time was improved"
   ]
  },
  {
   "cell_type": "code",
   "execution_count": 28,
   "id": "c0d3152a",
   "metadata": {},
   "outputs": [],
   "source": [
    "### Write your code here"
   ]
  },
  {
   "cell_type": "markdown",
   "id": "b241be6e",
   "metadata": {},
   "source": [
    "### Q27 \n",
    "\n",
    "Is the departure delay (i.e., DepTime - CRSDepTime) predictive of the arrival delay (ArrTime > CRSArrTime)?\n",
    "Use an approach of your choice (e.g. `skelearn` which we covered in class or `Spark`) to model as a linear regression the arrival delay as a function of the departure delay. \n",
    "\n"
   ]
  },
  {
   "cell_type": "code",
   "execution_count": 29,
   "id": "e3f319d4",
   "metadata": {},
   "outputs": [],
   "source": [
    "### Write your code here"
   ]
  }
 ],
 "metadata": {
  "kernelspec": {
   "display_name": "Python 3 (ipykernel)",
   "language": "python",
   "name": "python3"
  },
  "language_info": {
   "codemirror_mode": {
    "name": "ipython",
    "version": 3
   },
   "file_extension": ".py",
   "mimetype": "text/x-python",
   "name": "python",
   "nbconvert_exporter": "python",
   "pygments_lexer": "ipython3",
   "version": "3.9.7"
  }
 },
 "nbformat": 4,
 "nbformat_minor": 5
}
